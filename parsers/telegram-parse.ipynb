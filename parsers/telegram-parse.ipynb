{
 "cells": [
  {
   "cell_type": "code",
   "execution_count": null,
   "metadata": {},
   "outputs": [],
   "source": [
    "# Access the telegram profiles and parses all context and responses in the profile."
   ]
  },
  {
   "cell_type": "code",
   "execution_count": 14,
   "metadata": {},
   "outputs": [
    {
     "ename": "TypeError",
     "evalue": "expected str, bytes or os.PathLike object, not SQLiteSession",
     "output_type": "error",
     "traceback": [
      "\u001b[1;31m---------------------------------------------------------------------------\u001b[0m",
      "\u001b[1;31mTypeError\u001b[0m                                 Traceback (most recent call last)",
      "Cell \u001b[1;32mIn[14], line 41\u001b[0m\n\u001b[0;32m     38\u001b[0m         client\u001b[38;5;241m.\u001b[39mdisconnect()\n\u001b[0;32m     39\u001b[0m         \u001b[38;5;28mprint\u001b[39m(\u001b[38;5;124m\"\u001b[39m\u001b[38;5;124mDONE\u001b[39m\u001b[38;5;124m\"\u001b[39m)\n\u001b[1;32m---> 41\u001b[0m \u001b[38;5;28;01mawait\u001b[39;00m main()\n\u001b[0;32m     42\u001b[0m \u001b[38;5;66;03m#client.disconnect\u001b[39;00m\n",
      "Cell \u001b[1;32mIn[14], line 29\u001b[0m, in \u001b[0;36mmain\u001b[1;34m()\u001b[0m\n\u001b[0;32m     28\u001b[0m \u001b[38;5;28;01masync\u001b[39;00m \u001b[38;5;28;01mdef\u001b[39;00m \u001b[38;5;21mmain\u001b[39m():\n\u001b[1;32m---> 29\u001b[0m     session_path \u001b[38;5;241m=\u001b[39m \u001b[43mos\u001b[49m\u001b[38;5;241;43m.\u001b[39;49m\u001b[43mpath\u001b[49m\u001b[38;5;241;43m.\u001b[39;49m\u001b[43mabspath\u001b[49m\u001b[43m(\u001b[49m\u001b[43mclient\u001b[49m\u001b[38;5;241;43m.\u001b[39;49m\u001b[43msession\u001b[49m\u001b[43m)\u001b[49m\n\u001b[0;32m     30\u001b[0m     \u001b[38;5;28;01mif\u001b[39;00m os\u001b[38;5;241m.\u001b[39mpath\u001b[38;5;241m.\u001b[39mexists(client\u001b[38;5;241m.\u001b[39msession_name):\n\u001b[0;32m     31\u001b[0m         \u001b[38;5;28mprint\u001b[39m(\u001b[38;5;124mf\u001b[39m\u001b[38;5;124m\"\u001b[39m\u001b[38;5;124mSession \u001b[39m\u001b[38;5;132;01m{\u001b[39;00msession_name\u001b[38;5;132;01m}\u001b[39;00m\u001b[38;5;124m exists. Please delete it and restart the script. Or change the session name in the script.\u001b[39m\u001b[38;5;124m\"\u001b[39m)\n",
      "File \u001b[1;32m<frozen ntpath>:573\u001b[0m, in \u001b[0;36mabspath\u001b[1;34m(path)\u001b[0m\n",
      "File \u001b[1;32m<frozen ntpath>:540\u001b[0m, in \u001b[0;36mnormpath\u001b[1;34m(path)\u001b[0m\n",
      "\u001b[1;31mTypeError\u001b[0m: expected str, bytes or os.PathLike object, not SQLiteSession"
     ]
    }
   ],
   "source": [
    "from telethon import TelegramClient\n",
    "from telethon.tl.functions.messages import GetHistoryRequest\n",
    "from telethon.tl.types import PeerUser\n",
    "from dotenv import load_dotenv\n",
    "import json\n",
    "import os\n",
    "import sys\n",
    "\n",
    "dotenv_path = \".env\"\n",
    "load_dotenv(dotenv_path=dotenv_path)\n",
    "\n",
    "api_id = os.getenv('TELEGRAM_API_ID')\n",
    "api_hash = os.getenv('TELEGRAM_HASH_ID')\n",
    "session_name = \"telegram_parser\"\n",
    "phone_number = os.getenv('PHONE_NUMBER')\n",
    "data = [] # Will store sender, receiver, and message \n",
    "client = TelegramClient(session_name, api_id, api_hash)\n",
    "\n",
    "async def parse_data(data):\n",
    "    async with client:\n",
    "        dialogs = await client.get_dialogs()\n",
    "        async for dialog in dialogs[0]:\n",
    "                print(f\"Chat Name: {dialog.name} - Chat ID: {dialog.id}\")\n",
    "                async for message in client.get_messages(dialog.entity, limit=20):\n",
    "                     print(message)\n",
    "        return data\n",
    "\n",
    "async def main():\n",
    "    if os.path.exists(client.session_name):\n",
    "        print(f\"Session {session_name} exists. Please delete it and restart the script. Or change the session name in the script.\")\n",
    "        sys.exit()\n",
    "    else:\n",
    "        await client.start(phone_number)\n",
    "        print(f\"Connecting with {client.session_name}\")\n",
    "        await parse_data(data)\n",
    "\n",
    "        client.disconnect()\n",
    "        print(\"DONE\")\n",
    "\n",
    "await main()\n",
    "#client.disconnect"
   ]
  },
  {
   "cell_type": "code",
   "execution_count": null,
   "metadata": {},
   "outputs": [],
   "source": [
    "client = TelegramClient('telegram_parse', api_id, api_hash)\n",
    "dialogs = client.get_dialogs()\n",
    "print(dialogs[:2])\n",
    "client.disconnect()"
   ]
  }
 ],
 "metadata": {
  "kernelspec": {
   "display_name": ".venv",
   "language": "python",
   "name": "python3"
  },
  "language_info": {
   "codemirror_mode": {
    "name": "ipython",
    "version": 3
   },
   "file_extension": ".py",
   "mimetype": "text/x-python",
   "name": "python",
   "nbconvert_exporter": "python",
   "pygments_lexer": "ipython3",
   "version": "3.11.9"
  }
 },
 "nbformat": 4,
 "nbformat_minor": 2
}
