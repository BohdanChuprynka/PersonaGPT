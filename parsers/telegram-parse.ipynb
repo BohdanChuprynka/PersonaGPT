{
 "cells": [
  {
   "cell_type": "code",
   "execution_count": 1,
   "metadata": {},
   "outputs": [],
   "source": [
    "# Access the telegram profiles and parses all context and responses in the profile."
   ]
  },
  {
   "cell_type": "code",
   "execution_count": 2,
   "metadata": {},
   "outputs": [],
   "source": [
    "from telethon import TelegramClient\n",
    "from telethon.tl.functions.messages import GetHistoryRequest\n",
    "from telethon.tl.types import User\n",
    "import openai\n",
    "from dotenv import load_dotenv\n",
    "import json\n",
    "import os\n",
    "import sys"
   ]
  },
  {
   "cell_type": "code",
   "execution_count": 3,
   "metadata": {},
   "outputs": [],
   "source": [
    "dotenv_path = \".env\"\n",
    "load_dotenv(dotenv_path=dotenv_path)\n",
    "\n",
    "api_id = os.getenv('TELEGRAM_API_ID')\n",
    "api_hash = os.getenv('TELEGRAM_HASH_ID')\n",
    "session_name = \"telegram_parser\"\n",
    "phone_number = os.getenv('PHONE_NUMBER')\n",
    "client = TelegramClient(session_name, api_id, api_hash)\n"
   ]
  },
  {
   "cell_type": "code",
   "execution_count": 4,
   "metadata": {},
   "outputs": [],
   "source": [
    "openai.api_key = os.getenv('OPENAI_API_KEY')\n",
    "\n",
    "def categorize_message(message):\n",
    "    prompt = f'Classify the following message as either \"context\" or \"response\":\\n\\n\"{message}\"\\n\\nAnswer with one word only.'\n",
    "    \n",
    "    response = openai.Completion.create(\n",
    "        engine=\"text-davinci-003\",  # Choose a suitable engine\n",
    "        prompt=prompt,\n",
    "        max_tokens=1,\n",
    "        n=1,\n",
    "        stop=None,\n",
    "        temperature=0.5,\n",
    "    )\n",
    "    \n",
    "    return response.choices[0].text.strip()"
   ]
  },
  {
   "cell_type": "code",
   "execution_count": 5,
   "metadata": {},
   "outputs": [],
   "source": [
    "def optimize_messages(messages):\n",
    "      \"\"\"\n",
    "      Function which uses a set of tuning algorithms to meet the criteria of optimized data for future models.\n",
    "      \"\"\"\n",
    "\n",
    "      # TODO: Include only messages in ukrainian language\n",
    "\n",
    "\n",
    "      # TODO: Put todos below in order of priority \n",
    "      # For each of the points below, if true: add one, if false: minus one\n",
    "      # TODO: Add detection system for context and response:\n",
    "\n",
    "      # TODO: If the message contains question mark in the end of the message, it is a context\n",
    "      # TODO: The first message of the new day is probably a context.\n",
    "      # TODO: If there are few messages in a row from user, concatenate them into one message.\n",
    "      # TODO: If there is a significant time gap (e.g., several hours) between messages, the first message after the gap might be a context.\n",
    "      # TODO: Look for specific keywords or phrases that typically indicate a context (e.g., \"What do you think about...\", \"Can you explain...\", \"Why is...\").\n",
    "      # TODO: If a message is a direct reply to a previous context message, it is likely a response.\n",
    "      # TODO: Short messages that directly follow a context are likely responses.\n",
    "      # TODO: If the same user repeatedly sends messages ending with question marks or messages at the start of the day, those are likely contexts.\n",
    "       "
   ]
  },
  {
   "cell_type": "code",
   "execution_count": 102,
   "metadata": {},
   "outputs": [],
   "source": [
    "async def extract_message_info(messages):\n",
    "      extracted_dialog = []\n",
    "      last_message=None\n",
    "      result = {}\n",
    "\n",
    "      for message in messages:\n",
    "            text = message.message\n",
    "            sender = message.from_id if message.from_id else await client.get_entity(message.peer_id) \n",
    "            date = message.date\n",
    "\n",
    "            if last_message and text:\n",
    "                  if sender == last_message[1]:\n",
    "                        last_message[0] = \" \".join([last_message[0], text])\n",
    "                  else:\n",
    "                        extracted_dialog.append(last_message)\n",
    "                        last_message = [text, sender, date]\n",
    "            else:\n",
    "                  last_message = [text, sender, date]\n",
    "\n",
    "      if last_message:\n",
    "            extracted_dialog.append(last_message)\n",
    "      \n",
    "      return extracted_dialog\n"
   ]
  },
  {
   "cell_type": "code",
   "execution_count": 101,
   "metadata": {},
   "outputs": [
    {
     "name": "stdout",
     "output_type": "stream",
     "text": [
      "Connecting with <telethon.sessions.sqlite.SQLiteSession object at 0x12627e490>\n"
     ]
    },
    {
     "ename": "TypeError",
     "evalue": "list.append() takes exactly one argument (3 given)",
     "output_type": "error",
     "traceback": [
      "\u001b[0;31m---------------------------------------------------------------------------\u001b[0m",
      "\u001b[0;31mTypeError\u001b[0m                                 Traceback (most recent call last)",
      "Cell \u001b[0;32mIn[101], line 25\u001b[0m\n\u001b[1;32m     22\u001b[0m         client\u001b[38;5;241m.\u001b[39mdisconnect()\n\u001b[1;32m     23\u001b[0m         \u001b[38;5;28mprint\u001b[39m(\u001b[38;5;124m\"\u001b[39m\u001b[38;5;124mDONE\u001b[39m\u001b[38;5;124m\"\u001b[39m)\n\u001b[0;32m---> 25\u001b[0m \u001b[38;5;28;01mawait\u001b[39;00m main()\n\u001b[1;32m     26\u001b[0m \u001b[38;5;66;03m#client.disconnect\u001b[39;00m\n",
      "Cell \u001b[0;32mIn[101], line 21\u001b[0m, in \u001b[0;36mmain\u001b[0;34m()\u001b[0m\n\u001b[1;32m     19\u001b[0m \u001b[38;5;28;01mawait\u001b[39;00m client\u001b[38;5;241m.\u001b[39mstart(phone_number)\n\u001b[1;32m     20\u001b[0m \u001b[38;5;28mprint\u001b[39m(\u001b[38;5;124mf\u001b[39m\u001b[38;5;124m\"\u001b[39m\u001b[38;5;124mConnecting with \u001b[39m\u001b[38;5;132;01m{\u001b[39;00mclient\u001b[38;5;241m.\u001b[39msession\u001b[38;5;132;01m}\u001b[39;00m\u001b[38;5;124m\"\u001b[39m)\n\u001b[0;32m---> 21\u001b[0m data \u001b[38;5;241m=\u001b[39m \u001b[38;5;28;01mawait\u001b[39;00m parse_data()\n\u001b[1;32m     22\u001b[0m client\u001b[38;5;241m.\u001b[39mdisconnect()\n\u001b[1;32m     23\u001b[0m \u001b[38;5;28mprint\u001b[39m(\u001b[38;5;124m\"\u001b[39m\u001b[38;5;124mDONE\u001b[39m\u001b[38;5;124m\"\u001b[39m)\n",
      "Cell \u001b[0;32mIn[101], line 12\u001b[0m, in \u001b[0;36mparse_data\u001b[0;34m(threshold)\u001b[0m\n\u001b[1;32m     10\u001b[0m total_messages \u001b[38;5;241m=\u001b[39m \u001b[38;5;28mlen\u001b[39m(messages)\n\u001b[1;32m     11\u001b[0m \u001b[38;5;28;01mif\u001b[39;00m total_messages \u001b[38;5;241m>\u001b[39m threshold:\n\u001b[0;32m---> 12\u001b[0m     extracted_dialog \u001b[38;5;241m=\u001b[39m \u001b[38;5;28;01mawait\u001b[39;00m extract_message_info(messages)\n\u001b[1;32m     13\u001b[0m     \u001b[38;5;28;01mreturn\u001b[39;00m extracted_dialog\n",
      "Cell \u001b[0;32mIn[100], line 14\u001b[0m, in \u001b[0;36mextract_message_info\u001b[0;34m(messages)\u001b[0m\n\u001b[1;32m     12\u001b[0m \u001b[38;5;28;01mif\u001b[39;00m sender \u001b[38;5;241m==\u001b[39m last_message[\u001b[38;5;241m1\u001b[39m]:\n\u001b[1;32m     13\u001b[0m       last_message \u001b[38;5;241m=\u001b[39m \u001b[38;5;124m\"\u001b[39m\u001b[38;5;124m \u001b[39m\u001b[38;5;124m\"\u001b[39m\u001b[38;5;241m.\u001b[39mjoin([last_message[\u001b[38;5;241m0\u001b[39m], text])\n\u001b[0;32m---> 14\u001b[0m       \u001b[43mextracted_dialog\u001b[49m\u001b[38;5;241;43m.\u001b[39;49m\u001b[43mappend\u001b[49m\u001b[43m(\u001b[49m\u001b[43mlast_message\u001b[49m\u001b[43m,\u001b[49m\u001b[43m \u001b[49m\u001b[43msender\u001b[49m\u001b[43m,\u001b[49m\u001b[43m \u001b[49m\u001b[43mdate\u001b[49m\u001b[43m)\u001b[49m\n\u001b[1;32m     15\u001b[0m \u001b[38;5;28;01melse\u001b[39;00m:\n\u001b[1;32m     16\u001b[0m       extracted_dialog\u001b[38;5;241m.\u001b[39mappend(text, sender, date)\n",
      "\u001b[0;31mTypeError\u001b[0m: list.append() takes exactly one argument (3 given)"
     ]
    }
   ],
   "source": [
    "async def parse_data(threshold=50):\n",
    "    async with client:\n",
    "        dialogs = await client.get_dialogs()\n",
    "        dialogs = [dialog for dialog in dialogs if isinstance(dialog.entity, User)]\n",
    "        dialogs = [dialog for dialog in dialogs if not dialog.entity.bot]\n",
    "        filtered_dialogs = []\n",
    "        for dialog in dialogs:\n",
    "            messages = await client.get_messages(dialog.entity, limit=55)\n",
    "\n",
    "            total_messages = len(messages)\n",
    "            if total_messages > threshold:\n",
    "                extracted_dialog = await extract_message_info(messages)\n",
    "                return extracted_dialog\n",
    "async def main():\n",
    "    if os.path.exists(f\"parsers\\{session_name}.session-journal\"):\n",
    "        print(f\"Session {session_name} exists. Please delete it and restart the script. Or change the session name in the script.\")\n",
    "        sys.exit()\n",
    "    else:\n",
    "        await client.start(phone_number)\n",
    "        print(f\"Connecting with {client.session}\")\n",
    "        data = await parse_data()\n",
    "        client.disconnect()\n",
    "        print(\"DONE\")\n",
    "\n",
    "await main()\n",
    "#client.disconnect"
   ]
  },
  {
   "cell_type": "code",
   "execution_count": null,
   "metadata": {},
   "outputs": [],
   "source": [
    "[Message(id=79743, peer_id=PeerUser(user_id=597029615), date=datetime.datetime(2024, 8, 13, 13, 20, 22, tzinfo=datetime.timezone.utc), message='', out=True, mentioned=False, media_unread=False, silent=False, post=False, from_scheduled=False, legacy=False, edit_hide=True, pinned=False, noforwards=False, invert_media=False, offline=False, from_id=PeerUser(user_id=1037155651), from_boosts_applied=None, saved_peer_id=None, fwd_from=None, via_bot_id=None, via_business_bot_id=None, reply_to=None, media=MessageMediaPhoto(spoiler=False, photo=Photo(id=5321321732667204545, access_hash=-8016869431638365570, file_reference=b'\\x03\\x00\\x017\\x7ff\\xbc\\xdc\\rx\\x99\\xc1#\\xc5\\xbaamX\\xd1\\xee\\xbc\\xfe\\xb6J\\xd2', date=datetime.datetime(2024, 8, 13, 13, 20, 21, tzinfo=datetime.timezone.utc), sizes=[PhotoStrippedSize(type='i', bytes=b'\\x01(\\'\\xd3\\x9a\\xe1atB\\x8e\\xcc\\xf9\\xc0Q\\x9e\\x94\\xc3v\\xbb\\x95^)Sy\\xc0,8\\xfeu\\x06\\xa4\\xbb\\xa5\\x8b9\\nRE,\\x14\\x9cd\\x0fJ\\xabm\\x18\\x84E\\x1a\\xb39\\xf3\\xb7\\x93\\xe5\\xb0\\x00`\\x8e\\xe2\\x804Zh\\xd5\\x15\\xf2\\xe5\\x0e\\xdc0<\\x1c\\x9aE\\xbc\\x0e7$\\x130\\xc9\\x19\\n?\\xc6\\xa0rL\\x911\\x91\\x8c\\x87\\x07v\\xdc\\x05\\x07\\xb0\\x1dy\\xfd*\\x94\\xb0\\t\\xa1\\x8d\\x19\\xda6F|\\x8f)\\x8fS\\xec(\\x03f\\t\\xd6p\\xc5U\\x97km!\\x879\\xa2\\xa1\\xd3\\xf9Y\\xdb\\x04\\x06\\x94\\x91\\x90FF\\x05\\x14\\x00\\x97\\xf2l\\x8b\\n\\xd8\\x99\\x81X\\xc6\\xe23\\xff\\x00\\xd7\\xac\\xef\\xb4\\\\\\xc4\\xf2E5\\xc7\\xef\\x86\\x08\\r\\xc0\\x1c\\x0f\\xcf\\xe9W\\xef\\xe5h\\xe4\\x8b\\x0e\\xca\\xbb]\\x9bn2p\\x01\\xefU\\xe1\\xb93\\x08\\xe4G\\x94\\xa9\\x97c+\\xe3\\x91\\x8c\\xfaP\\x013\\xca\\xd0\\x87o4N\\xaa\\xbb\\xbeQ\\xf2`\\xf2\\x7f\\x1f\\xe9V\"\\x92v\\x0b\\'\\x06F\\x1cF\\xe7n\\x17\\xd7\\x8f^?:\\xab\\xb5\\xad\\xe3\\x1eL\\xfb|\\xc2\\xc4F\\x18q\\xc0\\xe3\\'\\x8e>\\xb4\\xf8\\x18<V\\xfecyO\\x1b\\x92\\xcb\\xb4\\xe0\\xf5\\xe7\\xff\\x00\\xaf\\xd2\\x80,io3\\xdb\\xb8\\x9d\\x89tr\\xbc\\xf5\\x1c\\n)l\\x14\\x84\\x98\\x92X4\\xa5\\x81=H\\xc0\\xebE\\x00>\\xea\\xd4\\xdc22\\xc9\\xb0\\xa0#\\xee\\x86\\xc8?Z\\x85,\\x19YI\\x98\\x15V\\xdd\\xb5b\\x0b\\x93\\xd3\\xb5\\x14P\\x04o\\xa5\\x06#l\\xbbF9\\x1b22z\\x9ct\\x15j\\x08\\x08B\\xb38\\x98ch\\xdc\\x80`zQE\\x00:\\xd6\\x03o\\x19V}\\xe4\\x9c\\xee\\xc6\\x0f\\xff\\x00^\\x8a(\\xa0\\x0f'), PhotoSize(type='m', w=310, h=320, size=17002), PhotoSize(type='x', w=774, h=800, size=42357), PhotoSizeProgressive(type='y', w=1239, h=1280, sizes=[10199, 20198, 30674, 40215, 59682])], dc_id=2, has_stickers=False, video_sizes=[]), ttl_seconds=None), reply_markup=None, entities=[], views=None, forwards=None, replies=None, edit_date=datetime.datetime(2024, 8, 13, 13, 21, 14, tzinfo=datetime.timezone.utc), post_author=None, grouped_id=None, reactions=MessageReactions(results=[ReactionCount(reaction=ReactionEmoji(emoticon='🥰'), count=1, chosen_order=None)], min=False, can_see_list=False, reactions_as_tags=False, recent_reactions=[MessagePeerReaction(peer_id=PeerUser(user_id=597029615), date=datetime.datetime(2024, 8, 13, 13, 21, 14, tzinfo=datetime.timezone.utc), reaction=ReactionEmoji(emoticon='🥰'), big=False, unread=False, my=False)]), restriction_reason=[], ttl_period=None, quick_reply_shortcut_id=None, effect=None, factcheck=None),"
   ]
  },
  {
   "cell_type": "code",
   "execution_count": 95,
   "metadata": {},
   "outputs": [],
   "source": [
    "main_array = [1,2,3,4]\n",
    "\n",
    "main_array.append([1, 2,3,4])"
   ]
  },
  {
   "cell_type": "code",
   "execution_count": 96,
   "metadata": {},
   "outputs": [
    {
     "data": {
      "text/plain": [
       "[1, 2, 3, 4, [1, 2, 3, 4]]"
      ]
     },
     "execution_count": 96,
     "metadata": {},
     "output_type": "execute_result"
    }
   ],
   "source": [
    "main_array"
   ]
  },
  {
   "cell_type": "code",
   "execution_count": null,
   "metadata": {},
   "outputs": [],
   "source": [
    "client = TelegramClient('telegram_parse', api_id, api_hash)\n",
    "dialogs = client.get_dialogs()\n",
    "print(dialogs[:2])\n",
    "client.disconnect()"
   ]
  }
 ],
 "metadata": {
  "kernelspec": {
   "display_name": ".venv",
   "language": "python",
   "name": "python3"
  },
  "language_info": {
   "codemirror_mode": {
    "name": "ipython",
    "version": 3
   },
   "file_extension": ".py",
   "mimetype": "text/x-python",
   "name": "python",
   "nbconvert_exporter": "python",
   "pygments_lexer": "ipython3",
   "version": "3.9.6"
  }
 },
 "nbformat": 4,
 "nbformat_minor": 2
}
