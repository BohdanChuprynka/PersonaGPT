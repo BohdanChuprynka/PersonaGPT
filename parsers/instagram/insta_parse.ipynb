{
  "cells": [
    {
      "cell_type": "markdown",
      "metadata": {
        "id": "SSD3Q87wOXH0"
      },
      "source": [
        "## Process Instagram JSON file.\n",
        "\n",
        "Since directly parsing data from instagram is against their **Terms and Conditions**, we will need to manually download the json file through your account.\n",
        "\n",
        "Instructions to download the json file:\n",
        "\n",
        "**Open the instagram account** - below Setting and Privacy **Your Activity** - **Download your information**\n",
        "\n",
        "When you are asked what to download, uncheck everything except messages. This will force script to work properly.\n",
        "\n",
        "You can choose where to download the file. Whether download on this device, or on the cloud.\n",
        "\n",
        "This notebook contains to parse locally or google drive. You will be able to choose on your own.\n",
        "\n",
        "**If you are parsing from google drive, recommended running this from Google Colab**\n",
        "\n",
        "\n",
        "**Note: Instagram JSON file doesn't contain context messages. We will use ChatGPT to generate them. This is not free.**"
      ]
    },
    {
      "cell_type": "code",
      "execution_count": 1,
      "metadata": {
        "id": "Kf-ywaBMOXH1"
      },
      "outputs": [],
      "source": [
        "import json"
      ]
    },
    {
      "cell_type": "code",
      "execution_count": null,
      "metadata": {
        "id": "AeE5bGt2OXH1"
      },
      "outputs": [],
      "source": [
        "message_path = \"messages.json\""
      ]
    },
    {
      "cell_type": "code",
      "execution_count": null,
      "metadata": {
        "id": "6CQQgLFtOXH2"
      },
      "outputs": [],
      "source": [
        "def collect_data(path, parse_type: str = None):\n",
        "    if parse_type == \"local\":\n",
        "        with open(path, 'r', encoding='utf-8') as file:\n",
        "            data = json.load(file)\n",
        "    elif parse_type == \"google_drive\":\n",
        "          from google.colab import drive\n",
        "          drive.mount('/content/drive')\n",
        "          with open(path, 'r', encoding='utf-8') as file:\n",
        "              data = json.load(file)\n"
      ]
    },
    {
      "cell_type": "code",
      "source": [],
      "metadata": {
        "id": "wf-accZePDqt"
      },
      "execution_count": null,
      "outputs": []
    }
  ],
  "metadata": {
    "kernelspec": {
      "display_name": ".venv",
      "language": "python",
      "name": "python3"
    },
    "language_info": {
      "codemirror_mode": {
        "name": "ipython",
        "version": 3
      },
      "file_extension": ".py",
      "mimetype": "text/x-python",
      "name": "python",
      "nbconvert_exporter": "python",
      "pygments_lexer": "ipython3",
      "version": "3.9.6"
    },
    "colab": {
      "provenance": []
    }
  },
  "nbformat": 4,
  "nbformat_minor": 0
}