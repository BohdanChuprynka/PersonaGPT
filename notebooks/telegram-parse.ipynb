{
 "cells": [
  {
   "cell_type": "code",
   "execution_count": 5,
   "metadata": {},
   "outputs": [],
   "source": [
    "# Parses and organizes all the messages in telegram account."
   ]
  },
  {
   "cell_type": "code",
   "execution_count": null,
   "metadata": {},
   "outputs": [],
   "source": [
    "#openai.api_key = os.getenv('OPENAI_API_KEY')\n",
    "\n",
    "def categorize_message(message):\n",
    "    prompt = f'Classify the following message as either \"context\" or \"response\":\\n\\n\"{message}\"\\n\\nAnswer with one word only.'\n",
    "    \n",
    "    response = openai.Completion.create(\n",
    "        engine=\"text-davinci-003\",  # Choose a suitable engine\n",
    "        prompt=prompt,\n",
    "        max_tokens=1,\n",
    "        n=1,\n",
    "        stop=None,\n",
    "        temperature=0.5,\n",
    "    )\n",
    "    \n",
    "    return response.choices[0].text.strip()"
   ]
  },
  {
   "cell_type": "code",
   "execution_count": 1,
   "metadata": {},
   "outputs": [],
   "source": [
    "from telethon import TelegramClient\n",
    "from telethon.tl.functions.messages import GetHistoryRequest\n",
    "from telethon.tl.types import User, PeerUser\n",
    "from telethon.errors import FloodWaitError\n",
    "import asyncio\n",
    "import time \n",
    "import openai\n",
    "from dotenv import load_dotenv\n",
    "import json\n",
    "import os\n",
    "import sys"
   ]
  },
  {
   "cell_type": "code",
   "execution_count": 2,
   "metadata": {},
   "outputs": [],
   "source": [
    "dotenv_path = \".env\"\n",
    "load_dotenv(dotenv_path=dotenv_path)\n",
    "\n",
    "api_id = os.getenv('TELEGRAM_API_ID')\n",
    "api_hash = os.getenv('TELEGRAM_HASH_ID')\n",
    "phone_number = os.getenv('PHONE_NUMBER')\n",
    "my_telegram_id = os.getenv('my_telegram_id')\n",
    "session_name = \"telegram_parser\"\n",
    "client = TelegramClient(session_name, api_id, api_hash)\n"
   ]
  },
  {
   "cell_type": "code",
   "execution_count": 14,
   "metadata": {},
   "outputs": [],
   "source": [
    "async def get_total_messages(session_name, api_id, api_hash, phone_number, only_personal=True):\n",
    "      \"\"\"\n",
    "      Shows a total amount of messages that your account has. \n",
    "      \"\"\"\n",
    "      total_messages = 0\n",
    "\n",
    "      async with TelegramClient(session_name, api_id, api_hash) as client:\n",
    "            client.start(phone_number)\n",
    "            dialogs = await client.get_dialogs()\n",
    "\n",
    "            if only_personal:\n",
    "                  dialogs = [dialog for dialog in dialogs if isinstance(dialog.entity, User)]\n",
    "                  print(f\"Total dialogs: {len(dialogs)}\")\n",
    "            for dialog in dialogs:\n",
    "                  async for message in client.iter_messages(dialog.entity, limit=None):\n",
    "                        total_messages += 1\n",
    "            print(f\"Total messages: {total_messages}\")\n",
    "            client.disconnect()\n",
    "            return total_messages"
   ]
  },
  {
   "cell_type": "code",
   "execution_count": 7,
   "metadata": {},
   "outputs": [],
   "source": [
    "# Takes some time to run\n",
    "#%time\n",
    "#total_messages = await get_total_messages(session_name, api_id, api_hash, phone_number, only_personal=True)"
   ]
  },
  {
   "cell_type": "code",
   "execution_count": 15,
   "metadata": {},
   "outputs": [],
   "source": [
    "async def extract_message_info(messages):\n",
    "      extracted_dialog = []\n",
    "      last_message=None\n",
    "\n",
    "      for message in messages:\n",
    "            try: \n",
    "                  text = message.message.strip() if message.message else \"\"\n",
    "                  sender = message.from_id if message.from_id else (await client.get_entity(message.peer_id)).id\n",
    "                  sender = sender.user_id if isinstance(sender, PeerUser) else sender # Deletes PeerUser classes and keeps only int id\n",
    "\n",
    "                  #sent_by_me = my_telegram_id == sender   \n",
    "                  date = message.date \n",
    "            except FloodWaitError as e:\n",
    "                  print(f\"FloodWaitError: sleeping for {e.seconds} seconds.\")\n",
    "                  await asyncio.sleep(e.seconds)\n",
    "                  continue \n",
    "                  \n",
    "            if text:\n",
    "                  if last_message and sender == last_message[1]:\n",
    "                        last_message[0] = \" \".join([last_message[0], text])\n",
    "                  else:\n",
    "                        if last_message:\n",
    "                              extracted_dialog.append(last_message)\n",
    "                        last_message = [text, sender, date]\n",
    "\n",
    "      if last_message:\n",
    "            extracted_dialog.append(last_message)\n",
    "      \n",
    "      return extracted_dialog"
   ]
  },
  {
   "cell_type": "code",
   "execution_count": null,
   "metadata": {},
   "outputs": [],
   "source": [
    "def exclude_single_dialogs(dialogs):\n",
    "     \"\"\"\n",
    "    Eliminates chats with no response from second user.\n",
    "\n",
    "     Accepts a list of dialogs [client.get_dialogs()]\n",
    "     Returns chats where both participants took participation in dialog.\n",
    "     \"\"\"\n",
    "\n",
    "     dialogs = [dialog for dialog in dialogs if len(dialog.participants) == 2]\n"
   ]
  },
  {
   "cell_type": "code",
   "execution_count": 46,
   "metadata": {},
   "outputs": [],
   "source": [
    "import pandas as pd\n",
    "\n",
    "async def parse_data(threshold: int =50, \n",
    "                     message_limit=None,\n",
    "                      dialogs_limit: int = 100,\n",
    "                      verbose=1,\n",
    "                      checkpoints: bool = True):\n",
    "    \"\"\"\n",
    "    Parses all the messages in the profile.\n",
    "    \n",
    "    Args:\n",
    "        threshold: int\n",
    "            The minimum amount of messages in a dialog to be processed.\n",
    "        message_limit: int\n",
    "            The maximum amount of messages to be processed in a dialog.\n",
    "        dialogs_limit: int\n",
    "            The maximum amount of dialogs to be processed.\n",
    "        verbose: int\n",
    "            The amount of output to be printed.\n",
    "        top_chats_first: bool\n",
    "            Whether to process chats with most messages first.\n",
    "\n",
    "    Returns:\n",
    "        pd.DataFrame\n",
    "            The parsed data.\n",
    "    \"\"\"\n",
    "    async with client:\n",
    "\n",
    "        dialogs = await client.get_dialogs()\n",
    "        dialogs = [dialog for dialog in dialogs if isinstance(dialog.entity, User)]\n",
    "        dialogs = [dialog for dialog in dialogs if not dialog.entity.bot]\n",
    "        my_telegram_id = int((await client.get_me()).id)\n",
    "        dialogs = [dialog for dialog in dialogs if dialog.entity.id != my_telegram_id]\n",
    "        dialogs = dialogs[:dialogs_limit]\n",
    "        filtered_dialogs = pd.DataFrame(columns=[\"Message\", \"Sender\",\"Date\"])\n",
    "\n",
    "        if verbose: \n",
    "            total = 0\n",
    "            print(f\"Total dialogs: {len(dialogs)}\")\n",
    "\n",
    "        # Check for checkpoint\n",
    "        if checkpoints:\n",
    "            if os.path.exists(\"checkpoint.pkt\"):\n",
    "                checkpoint = pd.read_pickle(\"checkpoint.pkt\")\n",
    "                filtered_dialogs = checkpoint[\"data\"]\n",
    "                total = checkpoint[\"last_iter\"]\n",
    "                dialogs = dialogs[total-1:]\n",
    "                print(f\"Resuming from checkpoint. Dialogs left: {len(dialogs)}.\")\n",
    "\n",
    "        # Main loop\n",
    "        for dialog in dialogs[:dialogs_limit]:\n",
    "            start_time = time.time() if verbose else None\n",
    "            messages_info = []\n",
    "            async for message in client.iter_messages(dialog.entity, limit=message_limit, wait_time=10):\n",
    "                messages_info.append(message)\n",
    "\n",
    "            total_messages = len(messages_info)\n",
    "            if total_messages > threshold:\n",
    "                extracted_dialog = await extract_message_info(messages_info)\n",
    "                filtered_dialogs = pd.concat([filtered_dialogs, pd.DataFrame(extracted_dialog, columns=[\"Message\", \"Sender\", \"Date\"])])\n",
    "                if verbose: \n",
    "                    total += 1\n",
    "                    run_time = time.time() - start_time\n",
    "                    print(f\"Dialogs processed: {total}, left: {len(dialogs) - total}. Run time: {run_time:.2f} seconds\") \n",
    "            if checkpoints:\n",
    "                checkpoint = {\"data\": filtered_dialogs,\n",
    "                               \"last_iter\": total}\n",
    "                pd.to_pickle(checkpoint, \"checkpoint.pkt\")\n",
    "        if os.path.exists(\"checkpoint.pkt\"):\n",
    "            os.remove(\"checkpoint.pkt\")\n",
    "        \n",
    "        return filtered_dialogs"
   ]
  },
  {
   "cell_type": "markdown",
   "metadata": {},
   "source": [
    "## **If you have >10k messages, it will take a long time to run. Hope you are patient.**"
   ]
  },
  {
   "cell_type": "code",
   "execution_count": 47,
   "metadata": {},
   "outputs": [
    {
     "name": "stdout",
     "output_type": "stream",
     "text": [
      "CPU times: user 2 µs, sys: 0 ns, total: 2 µs\n",
      "Wall time: 4.77 µs\n",
      "Connecting with <telethon.sessions.sqlite.SQLiteSession object at 0x109808c10>\n",
      "Total dialogs: 10\n",
      "Resuming from checkpoint. Dialogs left: 10.\n"
     ]
    },
    {
     "ename": "CancelledError",
     "evalue": "",
     "output_type": "error",
     "traceback": [
      "\u001b[0;31m---------------------------------------------------------------------------\u001b[0m",
      "\u001b[0;31mCancelledError\u001b[0m                            Traceback (most recent call last)",
      "Cell \u001b[0;32mIn[47], line 16\u001b[0m\n\u001b[1;32m     13\u001b[0m         client\u001b[38;5;241m.\u001b[39mdisconnect()\n\u001b[1;32m     14\u001b[0m         \u001b[38;5;28mprint\u001b[39m(\u001b[38;5;124m\"\u001b[39m\u001b[38;5;124mDONE\u001b[39m\u001b[38;5;124m\"\u001b[39m)\n\u001b[0;32m---> 16\u001b[0m data \u001b[38;5;241m=\u001b[39m \u001b[38;5;28;01mawait\u001b[39;00m main()\n",
      "Cell \u001b[0;32mIn[47], line 9\u001b[0m, in \u001b[0;36mmain\u001b[0;34m()\u001b[0m\n\u001b[1;32m      7\u001b[0m \u001b[38;5;28;01mawait\u001b[39;00m client\u001b[38;5;241m.\u001b[39mstart(phone_number)\n\u001b[1;32m      8\u001b[0m \u001b[38;5;28mprint\u001b[39m(\u001b[38;5;124mf\u001b[39m\u001b[38;5;124m\"\u001b[39m\u001b[38;5;124mConnecting with \u001b[39m\u001b[38;5;132;01m{\u001b[39;00mclient\u001b[38;5;241m.\u001b[39msession\u001b[38;5;132;01m}\u001b[39;00m\u001b[38;5;124m\"\u001b[39m)\n\u001b[0;32m----> 9\u001b[0m data \u001b[38;5;241m=\u001b[39m \u001b[38;5;28;01mawait\u001b[39;00m parse_data(message_limit\u001b[38;5;241m=\u001b[39m\u001b[38;5;241m100\u001b[39m, dialogs_limit\u001b[38;5;241m=\u001b[39m\u001b[38;5;241m10\u001b[39m, verbose\u001b[38;5;241m=\u001b[39m\u001b[38;5;241m1\u001b[39m, checkpoints\u001b[38;5;241m=\u001b[39m\u001b[38;5;28;01mTrue\u001b[39;00m)\n\u001b[1;32m     10\u001b[0m data \u001b[38;5;241m=\u001b[39m pd\u001b[38;5;241m.\u001b[39mDataFrame(data, columns\u001b[38;5;241m=\u001b[39m[\u001b[38;5;124m\"\u001b[39m\u001b[38;5;124mMessage\u001b[39m\u001b[38;5;124m\"\u001b[39m, \u001b[38;5;124m\"\u001b[39m\u001b[38;5;124mSender\u001b[39m\u001b[38;5;124m\"\u001b[39m, \u001b[38;5;124m\"\u001b[39m\u001b[38;5;124mDate\u001b[39m\u001b[38;5;124m\"\u001b[39m])\n\u001b[1;32m     11\u001b[0m data[\u001b[38;5;124m\"\u001b[39m\u001b[38;5;124mSent_by_me\u001b[39m\u001b[38;5;124m\"\u001b[39m] \u001b[38;5;241m=\u001b[39m \u001b[38;5;28mint\u001b[39m(my_telegram_id) \u001b[38;5;241m==\u001b[39m data[\u001b[38;5;124m\"\u001b[39m\u001b[38;5;124mSender\u001b[39m\u001b[38;5;124m\"\u001b[39m]\n",
      "Cell \u001b[0;32mIn[46], line 61\u001b[0m, in \u001b[0;36mparse_data\u001b[0;34m(threshold, message_limit, dialogs_limit, verbose, checkpoints)\u001b[0m\n\u001b[1;32m     59\u001b[0m total_messages \u001b[38;5;241m=\u001b[39m \u001b[38;5;28mlen\u001b[39m(messages_info)\n\u001b[1;32m     60\u001b[0m \u001b[38;5;28;01mif\u001b[39;00m total_messages \u001b[38;5;241m>\u001b[39m threshold:\n\u001b[0;32m---> 61\u001b[0m     extracted_dialog \u001b[38;5;241m=\u001b[39m \u001b[38;5;28;01mawait\u001b[39;00m extract_message_info(messages_info)\n\u001b[1;32m     62\u001b[0m     filtered_dialogs \u001b[38;5;241m=\u001b[39m pd\u001b[38;5;241m.\u001b[39mconcat([filtered_dialogs, pd\u001b[38;5;241m.\u001b[39mDataFrame(extracted_dialog, columns\u001b[38;5;241m=\u001b[39m[\u001b[38;5;124m\"\u001b[39m\u001b[38;5;124mMessage\u001b[39m\u001b[38;5;124m\"\u001b[39m, \u001b[38;5;124m\"\u001b[39m\u001b[38;5;124mSender\u001b[39m\u001b[38;5;124m\"\u001b[39m, \u001b[38;5;124m\"\u001b[39m\u001b[38;5;124mDate\u001b[39m\u001b[38;5;124m\"\u001b[39m])])\n\u001b[1;32m     63\u001b[0m     \u001b[38;5;28;01mif\u001b[39;00m verbose: \n",
      "Cell \u001b[0;32mIn[15], line 8\u001b[0m, in \u001b[0;36mextract_message_info\u001b[0;34m(messages)\u001b[0m\n\u001b[1;32m      6\u001b[0m \u001b[38;5;28;01mtry\u001b[39;00m: \n\u001b[1;32m      7\u001b[0m       text \u001b[38;5;241m=\u001b[39m message\u001b[38;5;241m.\u001b[39mmessage\u001b[38;5;241m.\u001b[39mstrip() \u001b[38;5;28;01mif\u001b[39;00m message\u001b[38;5;241m.\u001b[39mmessage \u001b[38;5;28;01melse\u001b[39;00m \u001b[38;5;124m\"\u001b[39m\u001b[38;5;124m\"\u001b[39m\n\u001b[0;32m----> 8\u001b[0m       sender \u001b[38;5;241m=\u001b[39m message\u001b[38;5;241m.\u001b[39mfrom_id \u001b[38;5;28;01mif\u001b[39;00m message\u001b[38;5;241m.\u001b[39mfrom_id \u001b[38;5;28;01melse\u001b[39;00m (\u001b[38;5;28;01mawait\u001b[39;00m client\u001b[38;5;241m.\u001b[39mget_entity(message\u001b[38;5;241m.\u001b[39mpeer_id))\u001b[38;5;241m.\u001b[39mid\n\u001b[1;32m      9\u001b[0m       sender \u001b[38;5;241m=\u001b[39m sender\u001b[38;5;241m.\u001b[39muser_id \u001b[38;5;28;01mif\u001b[39;00m \u001b[38;5;28misinstance\u001b[39m(sender, PeerUser) \u001b[38;5;28;01melse\u001b[39;00m sender \u001b[38;5;66;03m# Deletes PeerUser classes and keeps only int id\u001b[39;00m\n\u001b[1;32m     11\u001b[0m       \u001b[38;5;66;03m#sent_by_me = my_telegram_id == sender   \u001b[39;00m\n",
      "File \u001b[0;32m~/Documents/Programming/Projects/VSCode/Projects/AI-DataScience/PersonaGPT/.venv/lib/python3.9/site-packages/telethon/client/users.py:313\u001b[0m, in \u001b[0;36mUserMethods.get_entity\u001b[0;34m(self, entity)\u001b[0m\n\u001b[1;32m    311\u001b[0m     \u001b[38;5;28;01mwhile\u001b[39;00m users:\n\u001b[1;32m    312\u001b[0m         curr, users \u001b[38;5;241m=\u001b[39m users[:\u001b[38;5;241m200\u001b[39m], users[\u001b[38;5;241m200\u001b[39m:]\n\u001b[0;32m--> 313\u001b[0m         tmp\u001b[38;5;241m.\u001b[39mextend(\u001b[38;5;28;01mawait\u001b[39;00m \u001b[38;5;28mself\u001b[39m(functions\u001b[38;5;241m.\u001b[39musers\u001b[38;5;241m.\u001b[39mGetUsersRequest(curr)))\n\u001b[1;32m    314\u001b[0m     users \u001b[38;5;241m=\u001b[39m tmp\n\u001b[1;32m    315\u001b[0m \u001b[38;5;28;01mif\u001b[39;00m chats:  \u001b[38;5;66;03m# TODO Handle chats slice?\u001b[39;00m\n",
      "File \u001b[0;32m~/Documents/Programming/Projects/VSCode/Projects/AI-DataScience/PersonaGPT/.venv/lib/python3.9/site-packages/telethon/client/users.py:30\u001b[0m, in \u001b[0;36mUserMethods.__call__\u001b[0;34m(self, request, ordered, flood_sleep_threshold)\u001b[0m\n\u001b[1;32m     29\u001b[0m \u001b[38;5;28;01masync\u001b[39;00m \u001b[38;5;28;01mdef\u001b[39;00m \u001b[38;5;21m__call__\u001b[39m(\u001b[38;5;28mself\u001b[39m: \u001b[38;5;124m'\u001b[39m\u001b[38;5;124mTelegramClient\u001b[39m\u001b[38;5;124m'\u001b[39m, request, ordered\u001b[38;5;241m=\u001b[39m\u001b[38;5;28;01mFalse\u001b[39;00m, flood_sleep_threshold\u001b[38;5;241m=\u001b[39m\u001b[38;5;28;01mNone\u001b[39;00m):\n\u001b[0;32m---> 30\u001b[0m     \u001b[38;5;28;01mreturn\u001b[39;00m \u001b[38;5;28;01mawait\u001b[39;00m \u001b[38;5;28mself\u001b[39m\u001b[38;5;241m.\u001b[39m_call(\u001b[38;5;28mself\u001b[39m\u001b[38;5;241m.\u001b[39m_sender, request, ordered\u001b[38;5;241m=\u001b[39mordered)\n",
      "File \u001b[0;32m~/Documents/Programming/Projects/VSCode/Projects/AI-DataScience/PersonaGPT/.venv/lib/python3.9/site-packages/telethon/client/users.py:87\u001b[0m, in \u001b[0;36mUserMethods._call\u001b[0;34m(self, sender, request, ordered, flood_sleep_threshold)\u001b[0m\n\u001b[1;32m     85\u001b[0m         \u001b[38;5;28;01mreturn\u001b[39;00m results\n\u001b[1;32m     86\u001b[0m \u001b[38;5;28;01melse\u001b[39;00m:\n\u001b[0;32m---> 87\u001b[0m     result \u001b[38;5;241m=\u001b[39m \u001b[38;5;28;01mawait\u001b[39;00m future\n\u001b[1;32m     88\u001b[0m     \u001b[38;5;28mself\u001b[39m\u001b[38;5;241m.\u001b[39msession\u001b[38;5;241m.\u001b[39mprocess_entities(result)\n\u001b[1;32m     89\u001b[0m     \u001b[38;5;28;01mreturn\u001b[39;00m result\n",
      "\u001b[0;31mCancelledError\u001b[0m: "
     ]
    }
   ],
   "source": [
    "%time\n",
    "async def main():\n",
    "    if os.path.exists(f\"parsers\\{session_name}.session-journal\"):\n",
    "        print(f\"Session {session_name} exists. Please delete it and restart the script. Or change the session name in the script.\")\n",
    "        sys.exit()\n",
    "    else:\n",
    "        await client.start(phone_number)\n",
    "        print(f\"Connecting with {client.session}\")\n",
    "        data = await parse_data(message_limit=100, dialogs_limit=10, verbose=1, checkpoints=True)\n",
    "        data = pd.DataFrame(data, columns=[\"Message\", \"Sender\", \"Date\"])\n",
    "        data[\"Sent_by_me\"] = int(my_telegram_id) == data[\"Sender\"]\n",
    "        return data\n",
    "        client.disconnect()\n",
    "        print(\"DONE\")\n",
    "\n",
    "data = await main()"
   ]
  },
  {
   "cell_type": "code",
   "execution_count": 3,
   "metadata": {},
   "outputs": [],
   "source": [
    "if os.path.exists(\"parsers/full_telegram_data.csv\"):\n",
    "      print(\"File with the same name already exists. Do you want to overwrite it? (y/n)\")\n",
    "      if input() == \"y\":\n",
    "            data.to_csv(r'full_telegram_data.csv', index=False)\n",
    "      else:\n",
    "            print(\"File not overwritten.\")\n",
    "            sys.close()"
   ]
  }
 ],
 "metadata": {
  "kernelspec": {
   "display_name": ".venv",
   "language": "python",
   "name": "python3"
  },
  "language_info": {
   "codemirror_mode": {
    "name": "ipython",
    "version": 3
   },
   "file_extension": ".py",
   "mimetype": "text/x-python",
   "name": "python",
   "nbconvert_exporter": "python",
   "pygments_lexer": "ipython3",
   "version": "3.9.6"
  }
 },
 "nbformat": 4,
 "nbformat_minor": 2
}
