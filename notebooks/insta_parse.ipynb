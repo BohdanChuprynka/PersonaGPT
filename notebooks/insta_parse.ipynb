{
 "cells": [
  {
   "cell_type": "markdown",
   "metadata": {
    "id": "SSD3Q87wOXH0"
   },
   "source": [
    "## Process Instagram JSON file.\n",
    "\n",
    "Since directly parsing data from instagram is against their **Terms and Conditions**, we will need to manually download the json file through your account.\n",
    "\n",
    "Instructions to download the json file:\n",
    "\n",
    "**Open the instagram account** - below Setting and Privacy **Your Activity** - **Download your information**\n",
    "\n",
    "When you are asked what to download, uncheck everything except messages. This will force script to work properly.\n",
    "\n",
    "You can choose where to download the file. Whether download on this device, or on the cloud.\n",
    "\n",
    "This notebook contains to parse locally or google drive. You will be able to choose on your own.\n",
    "\n",
    "**If you are parsing from google drive, recommended running this notebook from Google Colab**"
   ]
  },
  {
   "cell_type": "code",
   "execution_count": null,
   "metadata": {
    "id": "Kf-ywaBMOXH1"
   },
   "outputs": [],
   "source": [
    "if __name__ == \"__main__\":\n",
    "      print(\"Loading modules...\")\n",
    "      import json \n",
    "      import os\n",
    "      import yaml\n",
    "      import numpy as np\n",
    "      import pandas as pd\n",
    "      "
   ]
  },
  {
   "cell_type": "code",
   "execution_count": null,
   "metadata": {},
   "outputs": [],
   "source": [
    "config_path = os.path.join(os.path.dirname(os.getcwd()), \"config.yaml\")\n",
    "with open(config_path, 'r') as f:\n",
    "    full_config = yaml.safe_load(f)\n",
    "\n",
    "personal_parameters = full_config.get('personal_parameters', {})\n",
    "\n",
    "instagram_username = personal_parameters.get('INSTAGRAM_USERNAME')\n",
    "inbox_path = os.path.join(os.path.dirname(os.getcwd()), \"parsers/instagram/your_instagram_activity 4/messages/inbox\")\n",
    "\n",
    "if not instagram_username: \n",
    "      raise ValueError(\"Instagram username is not set in the .env file.\")"
   ]
  },
  {
   "cell_type": "code",
   "execution_count": null,
   "metadata": {},
   "outputs": [],
   "source": [
    "# Since instagram uses special encoding, we are going to decode it\n",
    "def decode_utf8(encoded_str):\n",
    "      # Decoding the string\n",
    "      try: \n",
    "            decoded_str = str(encoded_str)\n",
    "            decoded_str = encoded_str.encode('latin1').decode('utf-8')\n",
    "            return decoded_str\n",
    "      except AttributeError:\n",
    "            pass "
   ]
  },
  {
   "cell_type": "code",
   "execution_count": null,
   "metadata": {},
   "outputs": [],
   "source": [
    "def extract_dialog(json_file_path, message_limit: int = None, dialogs_limit: int = None, verbose=1, checkpoints: bool = True, threshold: int = 50): \n",
    "      with open(json_file_path, 'r', errors='replace') as file:\n",
    "            dialog = json.load(file)\n",
    "            if threshold and len(dialog[\"messages\"]) < threshold:\n",
    "                  return\n",
    "            \n",
    "            last_message = None\n",
    "            extracted_dialog = []\n",
    "            for message_data in dialog[\"messages\"]:\n",
    "                  encoded_message = message_data[\"content\"] if \"content\" in message_data else np.nan\n",
    "                  message = decode_utf8(encoded_message)\n",
    "\n",
    "                  sender = message_data[\"sender_name\"]\n",
    "\n",
    "                  timestamp = message_data[\"timestamp_ms\"]\n",
    "                  timestamp = pd.to_datetime(timestamp, unit='ms')\n",
    "                  \n",
    "                  if message:\n",
    "                        if last_message and sender == last_message[1]:\n",
    "                              if last_message[0][-1] not in [\".\", \"!\", \"?\"]:\n",
    "                                    last_message[0] = last_message[0] + \",\"\n",
    "                              \n",
    "                              last_message[0] = \" \".join([message.lower(), last_message[0]])\n",
    "                        else:\n",
    "                              if last_message:\n",
    "                                    extracted_dialog.append(last_message)\n",
    "                              last_message = [message, sender, timestamp]\n",
    "            return extracted_dialog"
   ]
  },
  {
   "cell_type": "code",
   "execution_count": null,
   "metadata": {
    "id": "6CQQgLFtOXH2"
   },
   "outputs": [],
   "source": [
    "if not os.path.exists(inbox_path):\n",
    "            print(f\"Directory '{inbox_path}' for instagram folder wasn't found.\\nTry to change the path to your_instagram_activity -> messages -> inbox.\")\n",
    "\n",
    "\n",
    "# if verbose: \n",
    "#       print(f\"Discord data is processed from Path: {path}\")\n",
    "df = pd.DataFrame(columns=['Message', 'Sender', 'Date']) \n",
    "# Collects all dialogs, connects into full path and processes  \n",
    "for root, dirs, files in os.walk(inbox_path):\n",
    "      for file in files:\n",
    "            if file == 'message_1.json':\n",
    "                  json_file_path = os.path.join(root, file)\n",
    "\n",
    "                  data = extract_dialog(json_file_path)\n",
    "                  data = pd.DataFrame(data, columns=['Message', 'Sender', 'Date'])\n",
    "                  df = pd.concat([df, data])\n",
    "\n",
    "      df[\"Sent_by_me\"] = df[\"Sender\"] == str(instagram_username)\n",
    "                  "
   ]
  },
  {
   "cell_type": "code",
   "execution_count": null,
   "metadata": {},
   "outputs": [],
   "source": [
    "df"
   ]
  },
  {
   "cell_type": "code",
   "execution_count": null,
   "metadata": {},
   "outputs": [],
   "source": [
    "df.to_csv(\"/Users/bohdan/Documents/Programming/Projects/VSCode/AI-DataScience/PersonaGPT/Datasets/ffffff\")"
   ]
  },
  {
   "cell_type": "code",
   "execution_count": null,
   "metadata": {},
   "outputs": [],
   "source": []
  }
 ],
 "metadata": {
  "colab": {
   "provenance": []
  },
  "kernelspec": {
   "display_name": ".venv",
   "language": "python",
   "name": "python3"
  },
  "language_info": {
   "codemirror_mode": {
    "name": "ipython",
    "version": 3
   },
   "file_extension": ".py",
   "mimetype": "text/x-python",
   "name": "python",
   "nbconvert_exporter": "python",
   "pygments_lexer": "ipython3",
   "version": "3.9.6"
  }
 },
 "nbformat": 4,
 "nbformat_minor": 0
}
