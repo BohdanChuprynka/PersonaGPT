{
 "cells": [
  {
   "cell_type": "markdown",
   "metadata": {
    "id": "SSD3Q87wOXH0"
   },
   "source": [
    "## Process Instagram JSON file.\n",
    "\n",
    "Since directly parsing data from instagram is against their **Terms and Conditions**, we will need to manually download the json file through your account.\n",
    "\n",
    "Instructions to download the json file:\n",
    "\n",
    "**Open the instagram account** - below Setting and Privacy **Your Activity** - **Download your information**\n",
    "\n",
    "When you are asked what to download, uncheck everything except messages. This will force script to work properly.\n",
    "\n",
    "You can choose where to download the file. Whether download on this device, or on the cloud.\n",
    "\n",
    "This notebook contains to parse locally or google drive. You will be able to choose on your own.\n",
    "\n",
    "**If you are parsing from google drive, recommended running this notebook from Google Colab**"
   ]
  },
  {
   "cell_type": "code",
   "execution_count": null,
   "metadata": {
    "id": "Kf-ywaBMOXH1"
   },
   "outputs": [],
   "source": [
    "if __name__ == \"__main__\":\n",
    "      print(\"Loading modules...\")\n",
    "      import json \n",
    "      import os\n",
    "      import numpy as np\n",
    "      import pandas as pd\n",
    "      from dotenv import load_dotenv\n",
    "      "
   ]
  },
  {
   "cell_type": "code",
   "execution_count": null,
   "metadata": {},
   "outputs": [],
   "source": [
    "root_folder = os.path.dirname(os.getcwd())\n",
    "env_path = '.env'\n",
    "env_path = os.path.join(root_folder, env_path)\n",
    "load_dotenv(dotenv_path=env_path)\n",
    "\n",
    "instagram_username = os.getenv('INSTAGRAM_USERNAME')\n",
    "\n",
    "if not instagram_username: \n",
    "      raise ValueError(\"Instagram username is not set in the .env file.\")"
   ]
  },
  {
   "cell_type": "code",
   "execution_count": null,
   "metadata": {},
   "outputs": [],
   "source": [
    "# Since instagram uses special encoding, we are going to decode it\n",
    "def decode_utf8(encoded_str):\n",
    "      # Decoding the string\n",
    "      try: \n",
    "            decoded_str = str(encoded_str)\n",
    "            decoded_str = encoded_str.encode('latin1').decode('utf-8')\n",
    "            return decoded_str\n",
    "      except AttributeError:\n",
    "            pass "
   ]
  },
  {
   "cell_type": "code",
   "execution_count": null,
   "metadata": {},
   "outputs": [],
   "source": [
    "def extract_dialog(json_file_path): \n",
    "      with open(json_file_path, 'r', errors='ignore') as file:\n",
    "            dialog = json.load(file)\n",
    "            last_message = None\n",
    "            extracted_dialog = []\n",
    "\n",
    "            # Part that loops through all messages \n",
    "            for message_data in dialog[\"messages\"]:\n",
    "                  encoded_message = message_data[\"content\"] if \"content\" in message_data else np.nan\n",
    "                  message = decode_utf8(encoded_message)\n",
    "\n",
    "                  sender = message_data[\"sender_name\"]\n",
    "\n",
    "                  timestamp = message_data[\"timestamp_ms\"]\n",
    "                  timestamp = pd.to_datetime(timestamp, unit='ms')\n",
    "                  \n",
    "                  # Part that property concatenates the message to exluce few csv lines of same message. \n",
    "                  # It will simplify our work in future, when we will need to separate context and response.\n",
    "                  if message:\n",
    "                        # Separates two messages by comma\n",
    "                        if last_message and sender == last_message[1]:\n",
    "                              if last_message[0][-1] not in [\".\", \"!\", \"?\"]:\n",
    "                                    last_message[0] = last_message[0] + \",\"\n",
    "                              \n",
    "                              # Lowers the first letter of the second message and concatenates both messages into proper one.\n",
    "                              message = message[0].lower() + message[1:]\n",
    "                              last_message[0] = \" \".join([last_message[0], message])\n",
    "                        else:\n",
    "                              if last_message:\n",
    "                                    extracted_dialog.append(last_message)\n",
    "                              last_message = [message, sender, timestamp]\n",
    "            \n",
    "            return extracted_dialog\n"
   ]
  },
  {
   "cell_type": "code",
   "execution_count": null,
   "metadata": {
    "id": "6CQQgLFtOXH2"
   },
   "outputs": [],
   "source": [
    "inbox_path = os.path.join(root_folder, \"parsers/instagram/your_instagram_activity 4/messages/inbox\")\n",
    "insta_username = os.getenv(\"INSTAGRAM_USERNAME\")\n",
    "\n",
    "if not os.path.exists(inbox_path):\n",
    "            print(f\"Directory '{inbox_path}' for instagram folder wasn't found.\\nTry to change the path to your_instagram_activity -> messages -> inbox.\")\n",
    "\n",
    "\n",
    "# if verbose: \n",
    "#       print(f\"Discord data is processed from Path: {path}\")\n",
    "df = pd.DataFrame(columns=['Message', 'Sender', 'Date']) \n",
    "# Collects all dialogs, connects into full path and processes  \n",
    "for root, dirs, files in os.walk(inbox_path):\n",
    "      for file in files:\n",
    "            if file == 'message_1.json':\n",
    "                  json_file_path = os.path.join(root, file)\n",
    "\n",
    "                  data = extract_dialog(json_file_path)\n",
    "                  data = pd.DataFrame(data, columns=['Message', 'Sender', 'Date'])\n",
    "                  df = pd.concat([df, data])\n",
    "\n",
    "      df[\"Sent_by_me\"] = df[\"Sender\"] == str(instagram_username)\n",
    "                  "
   ]
  }
 ],
 "metadata": {
  "colab": {
   "provenance": []
  },
  "kernelspec": {
   "display_name": ".venv",
   "language": "python",
   "name": "python3"
  },
  "language_info": {
   "codemirror_mode": {
    "name": "ipython",
    "version": 3
   },
   "file_extension": ".py",
   "mimetype": "text/x-python",
   "name": "python",
   "nbconvert_exporter": "python",
   "pygments_lexer": "ipython3",
   "version": "3.9.6"
  }
 },
 "nbformat": 4,
 "nbformat_minor": 0
}
