{
 "cells": [
  {
   "cell_type": "markdown",
   "metadata": {},
   "source": [
    "# Manual Discord Data Export \n",
    "\n",
    "Since Discord doesn't have a public API, and using other scripts will violate the Discord terms and conditions, we will need to manually export the data.\n",
    "\n",
    "**Open Discord** -> **Privacy & Safety** -> **Request Data Export** \n",
    "\n",
    "**Important**: Uncheck everything except messages. This will force script to work properly."
   ]
  },
  {
   "cell_type": "code",
   "execution_count": 12,
   "metadata": {},
   "outputs": [],
   "source": [
    "import json \n",
    "import os\n",
    "import numpy as np\n",
    "import pandas as pd"
   ]
  },
  {
   "cell_type": "code",
   "execution_count": 38,
   "metadata": {},
   "outputs": [],
   "source": [
    "# Path to the directory where you extracted the Discord data\n",
    "path = \"package\"\n",
    "\n",
    "# Function to extract information from messages.json\n",
    "def extract_message_info(json_file_path, message_limit: int = None):\n",
    "    with open(json_file_path, 'r', encoding='utf-8') as file:\n",
    "        data = json.load(file)\n",
    "        for row in data:\n",
    "            timestamp = row.get('Timestamp')\n",
    "            content = row.get('Contents')\n",
    "            return [content, timestamp]"
   ]
  },
  {
   "cell_type": "code",
   "execution_count": 82,
   "metadata": {},
   "outputs": [],
   "source": [
    "def main(message_limit: int = None, dialogs_limit: int = None, verbose=1, threshold: int = 50):\n",
    "      if not os.path.exists(path):\n",
    "            print(f\"Discord Directory '{path}' does not exist.\")\n",
    "            exit()\n",
    "\n",
    "      data = []\n",
    "      limit = False\n",
    "      if verbose: \n",
    "            print(f\"Discord data is processed from Path: {path}\")\n",
    "\n",
    "      # Walks through every dialog in the discord dialogs directory\n",
    "      for root, dirs, files in os.walk(path):\n",
    "            if not limit:\n",
    "                  for file in files[:dialogs_limit]:\n",
    "                        if file == 'messages.json':\n",
    "                              json_file_path = os.path.join(root, file)\n",
    "                              processed_row = extract_message_info(json_file_path, message_limit)\n",
    "                              data.append(processed_row)\n",
    "                              \n",
    "                              # if limit\n",
    "                              if message_limit and len(data) >= message_limit:\n",
    "                                    limit= True\n",
    "                                    break\n",
    "      \n",
    "      try: \n",
    "            data = pd.DataFrame(data, columns=['Message', 'Date'])\n",
    "            return data\n",
    "      except Exception as e:\n",
    "            print(f\"Fixing exception: {e}\") # Clears all None values\n",
    "            data = [row for row in data if row is not None]\n",
    "            data = pd.DataFrame(data, columns=['Message', 'Date'])\n",
    "            return data"
   ]
  },
  {
   "cell_type": "code",
   "execution_count": null,
   "metadata": {},
   "outputs": [],
   "source": [
    "data = main(dialogs_limit=10) # Len of data will be less than limit because of how pandas df transforming."
   ]
  }
 ],
 "metadata": {
  "kernelspec": {
   "display_name": ".venv",
   "language": "python",
   "name": "python3"
  },
  "language_info": {
   "codemirror_mode": {
    "name": "ipython",
    "version": 3
   },
   "file_extension": ".py",
   "mimetype": "text/x-python",
   "name": "python",
   "nbconvert_exporter": "python",
   "pygments_lexer": "ipython3",
   "version": "3.9.6"
  }
 },
 "nbformat": 4,
 "nbformat_minor": 2
}
